{
 "cells": [
  {
   "cell_type": "markdown",
   "metadata": {
    "id": "Hs3sCblWKLaB"
   },
   "source": [
    "# __FINAL PROJECT PHASE II__"
   ]
  },
  {
   "cell_type": "markdown",
   "metadata": {
    "id": "GDZFYmfxKLaE"
   },
   "source": [
    "# __RESEARCH QUESTION:__\n",
    "\n",
    "What set of criteria is most important to the sucess of a mutual fund? What about amongst ETFs? Which type of fund is more successful overall and can the success of a fund be accurately predicted based on these observed criteria?"
   ]
  },
  {
   "cell_type": "markdown",
   "metadata": {},
   "source": [
    "### Discussion Notes\n",
    "- TA Comment: Okay to have more than 1 research question and/or subquestions\n",
    "- Shortcomings: No definition of success (quantitative) & no context provided (ETF)"
   ]
  },
  {
   "cell_type": "markdown",
   "metadata": {
    "id": "UQ8E-DnSKLaF"
   },
   "source": [
    "### Importing:"
   ]
  },
  {
   "cell_type": "code",
   "execution_count": 1,
   "metadata": {
    "id": "S7wrBGIDKLaF"
   },
   "outputs": [
    {
     "name": "stderr",
     "output_type": "stream",
     "text": [
      "/var/folders/zg/ls8bd3c56117c99w5bccvcjw0000gn/T/ipykernel_46518/611682050.py:8: MatplotlibDeprecationWarning: The seaborn styles shipped by Matplotlib are deprecated since 3.6, as they no longer correspond to the styles shipped by seaborn. However, they will remain available as 'seaborn-v0_8-<style>'. Alternatively, directly use the seaborn API instead.\n",
      "  plt.style.use('seaborn-poster')\n"
     ]
    }
   ],
   "source": [
    "# imports and settings\n",
    "import matplotlib.pyplot as plt\n",
    "import numpy as np\n",
    "import pandas as pd\n",
    "import seaborn as sns\n",
    "%matplotlib inline\n",
    "plt.rcParams['figure.figsize'] = (12.0, 8.0)\n",
    "plt.style.use('seaborn-poster')"
   ]
  },
  {
   "cell_type": "markdown",
   "metadata": {
    "id": "tZsuVc1pKLaG"
   },
   "source": [
    "### Data overview:\n",
    "\n",
    "The file contains 24,821 Mutual Funds and 1,680 ETFs with general aspects (as Total Net Assets, management company and size), portfolio indicators (as cash, stocks, bonds, and sectors), returns (as yeartodate, 2020-11) and financial ratios (as price/earning, Treynor and Sharpe ratios, alpha, and beta). This data was scraped from Yahoo Finance by kaggle user Stefano Leone.\n",
    "\n",
    "Link to dataset: https://www.kaggle.com/stefanoleone992/mutual-funds-and-etfs\n"
   ]
  },
  {
   "cell_type": "code",
   "execution_count": 2,
   "metadata": {
    "id": "WNMp5atHKLaH",
    "outputId": "287807de-b176-4476-ba4f-8a3b337cf149"
   },
   "outputs": [
    {
     "ename": "FileNotFoundError",
     "evalue": "[Errno 2] No such file or directory: 'USData/Mutual Funds.csv'",
     "output_type": "error",
     "traceback": [
      "\u001b[0;31m---------------------------------------------------------------------------\u001b[0m",
      "\u001b[0;31mFileNotFoundError\u001b[0m                         Traceback (most recent call last)",
      "Cell \u001b[0;32mIn[2], line 1\u001b[0m\n\u001b[0;32m----> 1\u001b[0m df_mf\u001b[38;5;241m=\u001b[39mpd\u001b[38;5;241m.\u001b[39mread_csv(\u001b[38;5;124m'\u001b[39m\u001b[38;5;124mUSData/Mutual Funds.csv\u001b[39m\u001b[38;5;124m'\u001b[39m)\n\u001b[1;32m      2\u001b[0m df_etf\u001b[38;5;241m=\u001b[39mpd\u001b[38;5;241m.\u001b[39mread_csv(\u001b[38;5;124m'\u001b[39m\u001b[38;5;124mUSData/ETFs.csv\u001b[39m\u001b[38;5;124m'\u001b[39m)\n",
      "File \u001b[0;32m~/anaconda3/envs/info2950/lib/python3.11/site-packages/pandas/io/parsers/readers.py:912\u001b[0m, in \u001b[0;36mread_csv\u001b[0;34m(filepath_or_buffer, sep, delimiter, header, names, index_col, usecols, dtype, engine, converters, true_values, false_values, skipinitialspace, skiprows, skipfooter, nrows, na_values, keep_default_na, na_filter, verbose, skip_blank_lines, parse_dates, infer_datetime_format, keep_date_col, date_parser, date_format, dayfirst, cache_dates, iterator, chunksize, compression, thousands, decimal, lineterminator, quotechar, quoting, doublequote, escapechar, comment, encoding, encoding_errors, dialect, on_bad_lines, delim_whitespace, low_memory, memory_map, float_precision, storage_options, dtype_backend)\u001b[0m\n\u001b[1;32m    899\u001b[0m kwds_defaults \u001b[38;5;241m=\u001b[39m _refine_defaults_read(\n\u001b[1;32m    900\u001b[0m     dialect,\n\u001b[1;32m    901\u001b[0m     delimiter,\n\u001b[0;32m   (...)\u001b[0m\n\u001b[1;32m    908\u001b[0m     dtype_backend\u001b[38;5;241m=\u001b[39mdtype_backend,\n\u001b[1;32m    909\u001b[0m )\n\u001b[1;32m    910\u001b[0m kwds\u001b[38;5;241m.\u001b[39mupdate(kwds_defaults)\n\u001b[0;32m--> 912\u001b[0m \u001b[38;5;28;01mreturn\u001b[39;00m _read(filepath_or_buffer, kwds)\n",
      "File \u001b[0;32m~/anaconda3/envs/info2950/lib/python3.11/site-packages/pandas/io/parsers/readers.py:577\u001b[0m, in \u001b[0;36m_read\u001b[0;34m(filepath_or_buffer, kwds)\u001b[0m\n\u001b[1;32m    574\u001b[0m _validate_names(kwds\u001b[38;5;241m.\u001b[39mget(\u001b[38;5;124m\"\u001b[39m\u001b[38;5;124mnames\u001b[39m\u001b[38;5;124m\"\u001b[39m, \u001b[38;5;28;01mNone\u001b[39;00m))\n\u001b[1;32m    576\u001b[0m \u001b[38;5;66;03m# Create the parser.\u001b[39;00m\n\u001b[0;32m--> 577\u001b[0m parser \u001b[38;5;241m=\u001b[39m TextFileReader(filepath_or_buffer, \u001b[38;5;241m*\u001b[39m\u001b[38;5;241m*\u001b[39mkwds)\n\u001b[1;32m    579\u001b[0m \u001b[38;5;28;01mif\u001b[39;00m chunksize \u001b[38;5;129;01mor\u001b[39;00m iterator:\n\u001b[1;32m    580\u001b[0m     \u001b[38;5;28;01mreturn\u001b[39;00m parser\n",
      "File \u001b[0;32m~/anaconda3/envs/info2950/lib/python3.11/site-packages/pandas/io/parsers/readers.py:1407\u001b[0m, in \u001b[0;36mTextFileReader.__init__\u001b[0;34m(self, f, engine, **kwds)\u001b[0m\n\u001b[1;32m   1404\u001b[0m     \u001b[38;5;28mself\u001b[39m\u001b[38;5;241m.\u001b[39moptions[\u001b[38;5;124m\"\u001b[39m\u001b[38;5;124mhas_index_names\u001b[39m\u001b[38;5;124m\"\u001b[39m] \u001b[38;5;241m=\u001b[39m kwds[\u001b[38;5;124m\"\u001b[39m\u001b[38;5;124mhas_index_names\u001b[39m\u001b[38;5;124m\"\u001b[39m]\n\u001b[1;32m   1406\u001b[0m \u001b[38;5;28mself\u001b[39m\u001b[38;5;241m.\u001b[39mhandles: IOHandles \u001b[38;5;241m|\u001b[39m \u001b[38;5;28;01mNone\u001b[39;00m \u001b[38;5;241m=\u001b[39m \u001b[38;5;28;01mNone\u001b[39;00m\n\u001b[0;32m-> 1407\u001b[0m \u001b[38;5;28mself\u001b[39m\u001b[38;5;241m.\u001b[39m_engine \u001b[38;5;241m=\u001b[39m \u001b[38;5;28mself\u001b[39m\u001b[38;5;241m.\u001b[39m_make_engine(f, \u001b[38;5;28mself\u001b[39m\u001b[38;5;241m.\u001b[39mengine)\n",
      "File \u001b[0;32m~/anaconda3/envs/info2950/lib/python3.11/site-packages/pandas/io/parsers/readers.py:1661\u001b[0m, in \u001b[0;36mTextFileReader._make_engine\u001b[0;34m(self, f, engine)\u001b[0m\n\u001b[1;32m   1659\u001b[0m     \u001b[38;5;28;01mif\u001b[39;00m \u001b[38;5;124m\"\u001b[39m\u001b[38;5;124mb\u001b[39m\u001b[38;5;124m\"\u001b[39m \u001b[38;5;129;01mnot\u001b[39;00m \u001b[38;5;129;01min\u001b[39;00m mode:\n\u001b[1;32m   1660\u001b[0m         mode \u001b[38;5;241m+\u001b[39m\u001b[38;5;241m=\u001b[39m \u001b[38;5;124m\"\u001b[39m\u001b[38;5;124mb\u001b[39m\u001b[38;5;124m\"\u001b[39m\n\u001b[0;32m-> 1661\u001b[0m \u001b[38;5;28mself\u001b[39m\u001b[38;5;241m.\u001b[39mhandles \u001b[38;5;241m=\u001b[39m get_handle(\n\u001b[1;32m   1662\u001b[0m     f,\n\u001b[1;32m   1663\u001b[0m     mode,\n\u001b[1;32m   1664\u001b[0m     encoding\u001b[38;5;241m=\u001b[39m\u001b[38;5;28mself\u001b[39m\u001b[38;5;241m.\u001b[39moptions\u001b[38;5;241m.\u001b[39mget(\u001b[38;5;124m\"\u001b[39m\u001b[38;5;124mencoding\u001b[39m\u001b[38;5;124m\"\u001b[39m, \u001b[38;5;28;01mNone\u001b[39;00m),\n\u001b[1;32m   1665\u001b[0m     compression\u001b[38;5;241m=\u001b[39m\u001b[38;5;28mself\u001b[39m\u001b[38;5;241m.\u001b[39moptions\u001b[38;5;241m.\u001b[39mget(\u001b[38;5;124m\"\u001b[39m\u001b[38;5;124mcompression\u001b[39m\u001b[38;5;124m\"\u001b[39m, \u001b[38;5;28;01mNone\u001b[39;00m),\n\u001b[1;32m   1666\u001b[0m     memory_map\u001b[38;5;241m=\u001b[39m\u001b[38;5;28mself\u001b[39m\u001b[38;5;241m.\u001b[39moptions\u001b[38;5;241m.\u001b[39mget(\u001b[38;5;124m\"\u001b[39m\u001b[38;5;124mmemory_map\u001b[39m\u001b[38;5;124m\"\u001b[39m, \u001b[38;5;28;01mFalse\u001b[39;00m),\n\u001b[1;32m   1667\u001b[0m     is_text\u001b[38;5;241m=\u001b[39mis_text,\n\u001b[1;32m   1668\u001b[0m     errors\u001b[38;5;241m=\u001b[39m\u001b[38;5;28mself\u001b[39m\u001b[38;5;241m.\u001b[39moptions\u001b[38;5;241m.\u001b[39mget(\u001b[38;5;124m\"\u001b[39m\u001b[38;5;124mencoding_errors\u001b[39m\u001b[38;5;124m\"\u001b[39m, \u001b[38;5;124m\"\u001b[39m\u001b[38;5;124mstrict\u001b[39m\u001b[38;5;124m\"\u001b[39m),\n\u001b[1;32m   1669\u001b[0m     storage_options\u001b[38;5;241m=\u001b[39m\u001b[38;5;28mself\u001b[39m\u001b[38;5;241m.\u001b[39moptions\u001b[38;5;241m.\u001b[39mget(\u001b[38;5;124m\"\u001b[39m\u001b[38;5;124mstorage_options\u001b[39m\u001b[38;5;124m\"\u001b[39m, \u001b[38;5;28;01mNone\u001b[39;00m),\n\u001b[1;32m   1670\u001b[0m )\n\u001b[1;32m   1671\u001b[0m \u001b[38;5;28;01massert\u001b[39;00m \u001b[38;5;28mself\u001b[39m\u001b[38;5;241m.\u001b[39mhandles \u001b[38;5;129;01mis\u001b[39;00m \u001b[38;5;129;01mnot\u001b[39;00m \u001b[38;5;28;01mNone\u001b[39;00m\n\u001b[1;32m   1672\u001b[0m f \u001b[38;5;241m=\u001b[39m \u001b[38;5;28mself\u001b[39m\u001b[38;5;241m.\u001b[39mhandles\u001b[38;5;241m.\u001b[39mhandle\n",
      "File \u001b[0;32m~/anaconda3/envs/info2950/lib/python3.11/site-packages/pandas/io/common.py:859\u001b[0m, in \u001b[0;36mget_handle\u001b[0;34m(path_or_buf, mode, encoding, compression, memory_map, is_text, errors, storage_options)\u001b[0m\n\u001b[1;32m    854\u001b[0m \u001b[38;5;28;01melif\u001b[39;00m \u001b[38;5;28misinstance\u001b[39m(handle, \u001b[38;5;28mstr\u001b[39m):\n\u001b[1;32m    855\u001b[0m     \u001b[38;5;66;03m# Check whether the filename is to be opened in binary mode.\u001b[39;00m\n\u001b[1;32m    856\u001b[0m     \u001b[38;5;66;03m# Binary mode does not support 'encoding' and 'newline'.\u001b[39;00m\n\u001b[1;32m    857\u001b[0m     \u001b[38;5;28;01mif\u001b[39;00m ioargs\u001b[38;5;241m.\u001b[39mencoding \u001b[38;5;129;01mand\u001b[39;00m \u001b[38;5;124m\"\u001b[39m\u001b[38;5;124mb\u001b[39m\u001b[38;5;124m\"\u001b[39m \u001b[38;5;129;01mnot\u001b[39;00m \u001b[38;5;129;01min\u001b[39;00m ioargs\u001b[38;5;241m.\u001b[39mmode:\n\u001b[1;32m    858\u001b[0m         \u001b[38;5;66;03m# Encoding\u001b[39;00m\n\u001b[0;32m--> 859\u001b[0m         handle \u001b[38;5;241m=\u001b[39m \u001b[38;5;28mopen\u001b[39m(\n\u001b[1;32m    860\u001b[0m             handle,\n\u001b[1;32m    861\u001b[0m             ioargs\u001b[38;5;241m.\u001b[39mmode,\n\u001b[1;32m    862\u001b[0m             encoding\u001b[38;5;241m=\u001b[39mioargs\u001b[38;5;241m.\u001b[39mencoding,\n\u001b[1;32m    863\u001b[0m             errors\u001b[38;5;241m=\u001b[39merrors,\n\u001b[1;32m    864\u001b[0m             newline\u001b[38;5;241m=\u001b[39m\u001b[38;5;124m\"\u001b[39m\u001b[38;5;124m\"\u001b[39m,\n\u001b[1;32m    865\u001b[0m         )\n\u001b[1;32m    866\u001b[0m     \u001b[38;5;28;01melse\u001b[39;00m:\n\u001b[1;32m    867\u001b[0m         \u001b[38;5;66;03m# Binary mode\u001b[39;00m\n\u001b[1;32m    868\u001b[0m         handle \u001b[38;5;241m=\u001b[39m \u001b[38;5;28mopen\u001b[39m(handle, ioargs\u001b[38;5;241m.\u001b[39mmode)\n",
      "\u001b[0;31mFileNotFoundError\u001b[0m: [Errno 2] No such file or directory: 'USData/Mutual Funds.csv'"
     ]
    }
   ],
   "source": [
    "\n",
    "df_mf=pd.read_csv('USData/Mutual Funds.csv')\n",
    "df_etf=pd.read_csv('USData/ETFs.csv')\n"
   ]
  },
  {
   "cell_type": "code",
   "execution_count": null,
   "metadata": {
    "id": "oDXY0ubIKLaI",
    "outputId": "808c678d-da49-4a75-c992-efe163c6a65f"
   },
   "outputs": [],
   "source": [
    "print(df_mf.shape,'\\n',df_mf.columns)"
   ]
  },
  {
   "cell_type": "markdown",
   "metadata": {
    "id": "bmqIGthIKLaI"
   },
   "source": [
    "# __DATA CLEANING APPENDIX__:\n"
   ]
  },
  {
   "cell_type": "markdown",
   "metadata": {
    "id": "c9I2dU_nKLaI"
   },
   "source": [
    "Throwing away  4 completely empty columns in df_etf - ['category_return_2019', 'category_return_2018', 'category_return_2017', 'category_return_2016']:"
   ]
  },
  {
   "cell_type": "code",
   "execution_count": null,
   "metadata": {
    "id": "JwnODYvKKLaJ"
   },
   "outputs": [],
   "source": [
    "empty_cols2 = [col for col in df_etf.columns if df_etf[col].isnull().all()]\n",
    "df_etf.drop(empty_cols2,\n",
    "        axis=1,\n",
    "        inplace=True)"
   ]
  },
  {
   "cell_type": "markdown",
   "metadata": {
    "id": "jlp3R4YWKLaJ"
   },
   "source": [
    "Throwing away the unnecessary columns that don't contain information useful to our analysis in both df_mf and df_etf:"
   ]
  },
  {
   "cell_type": "code",
   "execution_count": null,
   "metadata": {
    "id": "mwXGInioKLaJ"
   },
   "outputs": [],
   "source": [
    "throwaway_cols=[\n",
    "    'quarters_up',\n",
    "    'quarters_down',\n",
    "    'top10_holdings',\n",
    "    'years_up',\n",
    "    'years_down',\n",
    "    'currency'\n",
    "]\n",
    "df_mf.drop(columns=throwaway_cols,axis=1,inplace=True)\n",
    "df_etf.drop(columns=throwaway_cols[2:],axis=1,inplace=True)\n",
    "\n",
    "df_etf.to_csv('USData/NoEmptiesETFs.csv',index=False)\n",
    "df_mf.to_csv('USData/NoEmptiesMutual Funds.csv',index=False)\n"
   ]
  },
  {
   "cell_type": "markdown",
   "metadata": {
    "id": "zWKAO3b2KLaJ"
   },
   "source": [
    "Creating a method that allows us to isolate sections of each data frame based on keywords in their column names:"
   ]
  },
  {
   "cell_type": "code",
   "execution_count": null,
   "metadata": {
    "id": "YJcTraNEKLaK"
   },
   "outputs": [],
   "source": [
    "### Creates and returns a subset of df_mf by keeping only the columns with 'keyword' in their column name.\n",
    "def cleanbykeyword(df,keyword):\n",
    "    \"\"\"\n",
    "    Searches and creates a list of all of the column names in df that contain the keyword.\n",
    "    Subsets the df according to this list, then creates a df_new dataframe with this\n",
    "    information and drops the corresponding columns from the original df.\n",
    "\n",
    "    Arguments:\n",
    "        df: Dataset pandas DataFrame.\n",
    "        cols: List of columns to be included in calculations.\n",
    "        keyword: Word to be removed from column name in order to preserve clarity with labeling.\n",
    "\n",
    "\n",
    "    Return: dataframe containing data matching keyword.\n",
    "    \"\"\"\n",
    "    col_list=[ i for i in df.columns if (keyword in i)]\n",
    "    #print(col_list)\n",
    "    df_new=df[col_list]\n",
    "    df.drop(columns=col_list,axis=1,inplace=True) #removes duplicate data from df_mf masterframe\n",
    "    df_new.insert(0,'fund_symbol',df.fund_symbol) #inserts the fund symbols as the 1st column of the new data set\n",
    "    return (df_new)"
   ]
  },
  {
   "cell_type": "markdown",
   "metadata": {},
   "source": [
    "# Discussion Notes\n",
    "- Nice documentation with methods that deal with smaller parts of the task.\n",
    "- Need to explicitly answer WHY you need to do that step for the cleaning (ex/ drop a lot of columns --> why is it not needed?\n",
    "- Add titles, axis to graphs\n",
    "- Add markdowns to explain the significance (ex/ largest category, what does it mean? how is it different from the other parts?)\n",
    "- At the end, reflect if doing all the research changed your research question. "
   ]
  },
  {
   "cell_type": "markdown",
   "metadata": {
    "id": "GUXbBSz3KLaK"
   },
   "source": [
    "Removing category data from the dataframe. Some of the category columns were not updated properly in the data set and therefore cannot be used in our analyses, we drop them to save space:\n"
   ]
  },
  {
   "cell_type": "code",
   "execution_count": null,
   "metadata": {
    "id": "FeqjmGvNKLaK",
    "outputId": "c29e955d-2ce3-4df8-d3b2-d447240d6631"
   },
   "outputs": [],
   "source": [
    "df_mf_category_data=cleanbykeyword(df_mf,'category_')\n",
    "df_etf_category_data=cleanbykeyword(df_etf,'category_')\n",
    "df_mf_category_data.head(4)"
   ]
  },
  {
   "cell_type": "markdown",
   "metadata": {
    "id": "-4VqQdJfKLaK"
   },
   "source": [
    "Cleaning by fund return:\n"
   ]
  },
  {
   "cell_type": "code",
   "execution_count": null,
   "metadata": {
    "id": "2SDp8zNOKLaK",
    "outputId": "b059aa9f-e31a-4ffe-a588-05a21066cd21"
   },
   "outputs": [],
   "source": [
    "df_mf_return_history=cleanbykeyword(df_mf,'_return_')\n",
    "df_etf_return_history=cleanbykeyword(df_etf,'_return_').dropna()\n",
    "\n",
    "df_etf_return_history.to_csv('USData/returnsETFs.csv',index=False)\n",
    "df_mf_return_history.to_csv('USData/returnsMutual Funds.csv',index=False)\n",
    "\n",
    "df_mf_return_history.head(2)\n",
    "df_etf_return_history.head(2)"
   ]
  },
  {
   "cell_type": "markdown",
   "metadata": {
    "id": "pKQlCV99KLaL"
   },
   "source": [
    "Cleaning by standard deviation:\n"
   ]
  },
  {
   "cell_type": "code",
   "execution_count": null,
   "metadata": {
    "id": "0DO5_Jc9KLaL",
    "outputId": "35ec716a-91e8-42ae-df14-14fadcbc5b78"
   },
   "outputs": [],
   "source": [
    "df_mf_standard_deviations= cleanbykeyword(df_mf,'standard_deviation')\n",
    "df_etf_standard_deviations=cleanbykeyword(df_etf,'standard_deviation').dropna()\n",
    "df_etf_standard_deviations.to_csv('USData/stdsETFs.csv',index=False)\n",
    "df_mf_standard_deviations.to_csv('USData/stdsMutual Funds.csv',index=False)\n",
    "\n",
    "df_mf_standard_deviations.head(4)\n",
    "df_etf_standard_deviations.head(4)"
   ]
  },
  {
   "cell_type": "markdown",
   "metadata": {
    "id": "JA4eHck5KLaL"
   },
   "source": [
    "Cleaning by net annual expense, Sharpe and Treynor Ratios:\n"
   ]
  },
  {
   "cell_type": "code",
   "execution_count": null,
   "metadata": {
    "id": "dCq8pJMGKLaL",
    "outputId": "8a90f323-e080-4447-f4c3-01ac897f984d"
   },
   "outputs": [],
   "source": [
    "df_mf_ratios=cleanbykeyword(df_mf,'_ratio')\n",
    "df_etf_ratios=cleanbykeyword(df_etf,'_ratio').dropna()\n",
    "\n",
    "df_etf_ratios.to_csv('USData/ratiosETFs.csv',index=False)\n",
    "df_mf_ratios.to_csv('USData/ratiosMutual Funds.csv',index=False)\n",
    "df_mf_ratios.head(4)\n",
    "df_etf_ratios.head(4)\n",
    "\n"
   ]
  },
  {
   "cell_type": "markdown",
   "metadata": {
    "id": "AULlmW0FKLaL"
   },
   "source": [
    "Cleaning by Alpha value:\n"
   ]
  },
  {
   "cell_type": "code",
   "execution_count": null,
   "metadata": {
    "id": "X1DRH1yhKLaL",
    "outputId": "2b5dc3b7-11ef-470f-b6cb-129ef3850ec8"
   },
   "outputs": [],
   "source": [
    "df_mf_alpha=cleanbykeyword(df_mf,'alpha')\n",
    "df_mf_alpha.head(4)\n",
    "df_etf_alpha=cleanbykeyword(df_etf,'alpha')\n",
    "df_etf_alpha.head(4)\n",
    "\n"
   ]
  },
  {
   "cell_type": "markdown",
   "metadata": {
    "id": "ulgES3evKLaM"
   },
   "source": [
    "Cleaning by Beta value:\n"
   ]
  },
  {
   "cell_type": "code",
   "execution_count": null,
   "metadata": {
    "id": "XqV0fRhRKLaM",
    "outputId": "5186c043-56ee-44f5-9509-f1c4da53e52c"
   },
   "outputs": [],
   "source": [
    "df_mf_beta=cleanbykeyword(df_mf,'beta')\n",
    "df_mf_beta.head(4)\n",
    "df_etf_beta=cleanbykeyword(df_etf,'beta')\n",
    "df_etf_beta.head(4)\n",
    "\n"
   ]
  },
  {
   "cell_type": "markdown",
   "metadata": {
    "id": "n8_YEmgrKLaM"
   },
   "source": [
    "\n",
    "Cleaning by Sector:\n"
   ]
  },
  {
   "cell_type": "code",
   "execution_count": null,
   "metadata": {
    "id": "e5e9FFrGKLaM",
    "outputId": "40366055-c6aa-43f1-ddd4-a3b52385bbbe"
   },
   "outputs": [],
   "source": [
    "df_mf_sector=cleanbykeyword(df_mf,'sector')\n",
    "df_etf_sector=cleanbykeyword(df_etf,'sector')\n",
    "\n",
    "df_etf_sector.to_csv('USData/sectorsETFs.csv',index=False)\n",
    "df_mf_sector.to_csv('USData/sectorsMutual Funds.csv',index=False)\n",
    "df_etf_sector.head(4)"
   ]
  },
  {
   "cell_type": "markdown",
   "metadata": {
    "id": "vpIXdf3kKLaM"
   },
   "source": [
    "Cleaning by Credit:\n"
   ]
  },
  {
   "cell_type": "code",
   "execution_count": null,
   "metadata": {
    "id": "Rl0JxQ2YKLaM",
    "outputId": "64f50bb4-ae6a-41ec-d177-3032fca0376f"
   },
   "outputs": [],
   "source": [
    "df_mf_credit=cleanbykeyword(df_mf,'credit').dropna()\n",
    "\n",
    "df_mf_credit.to_csv('USData/creditsMutual Funds.csv',index=False)\n",
    "df_mf_credit.head(4)\n"
   ]
  },
  {
   "cell_type": "markdown",
   "metadata": {
    "id": "Tl7gIRQNKLaM"
   },
   "source": [
    "Cleaning by r squared coefficient:\n"
   ]
  },
  {
   "cell_type": "code",
   "execution_count": null,
   "metadata": {
    "id": "N625_pjGKLaN",
    "outputId": "30407ae6-3d24-4bef-9b71-504a9ab988ef"
   },
   "outputs": [],
   "source": [
    "df_mf_rsquare=cleanbykeyword(df_mf,'squared')\n",
    "df_mf_rsquare.head(4)\n",
    "df_etf_rsquare=cleanbykeyword(df_etf,'squared')\n",
    "df_etf_rsquare.head(4)\n",
    "\n"
   ]
  },
  {
   "cell_type": "markdown",
   "metadata": {
    "id": "bn4rbSc5KLaN"
   },
   "source": [
    "Cleaning by asset:\n"
   ]
  },
  {
   "cell_type": "code",
   "execution_count": null,
   "metadata": {
    "id": "B7LqUKo7KLaN",
    "outputId": "608155f2-fe8d-4426-df13-4606b0523f93"
   },
   "outputs": [],
   "source": [
    "df_mf_asset=cleanbykeyword(df_mf,'asset')\n",
    "df_etf_asset=cleanbykeyword(df_etf,'asset')\n",
    "\n",
    "df_etf_asset.to_csv('USData/assetsETFs.csv',index=False)\n",
    "df_mf_asset.to_csv('USData/assetsMutual Funds.csv',index=False)\n",
    "df_mf_asset.head(4)\n"
   ]
  },
  {
   "cell_type": "markdown",
   "metadata": {
    "id": "r_s2doBpKLaN"
   },
   "source": [
    "Merges datasets containing R-Squares, Alpha, and Beta values into a single data set:\n"
   ]
  },
  {
   "cell_type": "code",
   "execution_count": null,
   "metadata": {
    "id": "C2PLihv-KLaN",
    "outputId": "84c8500d-1777-4f16-bd4c-bcef3c618608"
   },
   "outputs": [],
   "source": [
    "df_mf_stats=df_mf_rsquare.merge(df_mf_alpha,how='left')\n",
    "df_mf_stats=df_mf_stats.merge(df_mf_beta,how='left')\n",
    "df_mf_stats.to_csv('USData/statsMutual Funds.csv',index=False)\n",
    "df_mf_stats.head()\n",
    "\n",
    "df_etf_stats=df_etf_rsquare.merge(df_etf_alpha,how='left')\n",
    "df_etf_stats=df_etf_stats.merge(df_etf_beta,how='left')\n",
    "df_etf_stats.to_csv('USData/statsETFs.csv',index=False)\n",
    "df_etf_stats.head()\n",
    "\n",
    "\n"
   ]
  },
  {
   "cell_type": "markdown",
   "metadata": {
    "id": "9mXhaKtMKLaN"
   },
   "source": [
    "# __EXPLORATORY ANALYSIS:__"
   ]
  },
  {
   "cell_type": "code",
   "execution_count": null,
   "metadata": {
    "id": "dF6ozc8gKLaN"
   },
   "outputs": [],
   "source": [
    "#creates a pie chart representing the relative distribution of funds in a certain category\n",
    "def pie_chart(df,column):\n",
    "    '''\n",
    "    Param df: Pandas dataframe\n",
    "    Param column: column in df that is to be analyzed.\n",
    "    '''\n",
    "    grouped=df.groupby(column).fund_symbol.count().to_frame()\n",
    "    plt.pie(grouped.fund_symbol,labels=grouped.index,autopct='%.2f%%')\n",
    "    plt.show()"
   ]
  },
  {
   "cell_type": "code",
   "execution_count": null,
   "metadata": {
    "id": "HOiEnuRRKLaS",
    "outputId": "3a80b5a5-2ba8-4c2f-99fa-6b1852e13bf3"
   },
   "outputs": [],
   "source": [
    "#Basic analysis of mutual fund distributions\n",
    "plt.title('Size types of mutual funds')\n",
    "pie_chart(df_mf,'size_type')\n",
    "plt.title('Investment types of mutual funds')\n",
    "pie_chart(df_mf,'investment_type')\n",
    "plt.title('Risk Ratings of mutual funds /5')\n",
    "pie_chart(df_mf,'risk_rating')\n"
   ]
  },
  {
   "cell_type": "code",
   "execution_count": null,
   "metadata": {
    "id": "Ar5A0wy1KLaS",
    "outputId": "42e12e81-008e-4261-ea4a-be7a0d131eac"
   },
   "outputs": [],
   "source": [
    "#Basic analysis of ETF distributions\n",
    "plt.title('Size types of ETFs')\n",
    "pie_chart(df_etf,'size_type')\n",
    "plt.title('Investment types of ETFs')\n",
    "pie_chart(df_etf,'investment_type')\n",
    "\n"
   ]
  },
  {
   "cell_type": "code",
   "execution_count": null,
   "metadata": {
    "id": "BE5mnLDEKLaS"
   },
   "outputs": [],
   "source": [
    "#creats a pie chart representing the % composition of a certain range of values in a dataset.\n",
    "def percent_comp_bar(df,cols,keyword):\n",
    "    \"\"\"\n",
    "    Creates a pie chart for a given DataFrame subset. Each section in the pie chart\n",
    "    represents a column mean within the dataframe, which corresponds to a % invested\n",
    "    in a given category (sector/asset)\n",
    "\n",
    "    Arguments:\n",
    "        df: Dataset pandas DataFrame.\n",
    "        cols: List of columns to be included in calculations.\n",
    "        keyword: Word to be removed from column name in order to preserve clarity with labeling.\n",
    "    \"\"\"\n",
    "    col_names=[]\n",
    "    other=0\n",
    "    col_sums=[]\n",
    "    for column in cols:\n",
    "        col_sum=df[column].mean()\n",
    "        if(col_sum<1 or 'other' in column):\n",
    "            other+=col_sum\n",
    "        else:\n",
    "            col_names.append(column.replace(keyword,''))\n",
    "            col_sums.append(df[column].mean())\n",
    "    if(other>0.1):\n",
    "        col_names.append('other')\n",
    "        col_sums.append(other)\n",
    "    plt.pie(col_sums,labels=col_names,autopct='%.2f%%')\n",
    "    plt.show()\n"
   ]
  },
  {
   "cell_type": "code",
   "execution_count": null,
   "metadata": {
    "id": "ruhVkx7UKLaS",
    "outputId": "076bdd80-ce80-4487-dd9c-296272a483b6"
   },
   "outputs": [],
   "source": [
    "cols=[i for i in df_mf_asset.columns[1:7]]\n",
    "percent_comp_bar(df_mf_asset,cols,'asset_')\n",
    "cols=[i for i in df_etf_asset.columns[1:3]]\n",
    "percent_comp_bar(df_etf_asset,cols,'asset_')"
   ]
  },
  {
   "cell_type": "code",
   "execution_count": null,
   "metadata": {
    "id": "iL1wtK_uKLaT",
    "outputId": "570ee654-4f2a-4f52-ad43-3b4d3086b138"
   },
   "outputs": [],
   "source": [
    "# Percentage invested in each sector\n",
    "cols=[i for i in df_mf_sector.columns[1:11]]\n",
    "plt.title('Sector distribution in Mutual Funds')\n",
    "percent_comp_bar(df_mf_sector,cols,'sector_')\n",
    "print('\\n')\n",
    "plt.title('Sector distribution in ETFs')\n",
    "percent_comp_bar(df_etf_sector,cols,'sector_')\n"
   ]
  },
  {
   "cell_type": "code",
   "execution_count": null,
   "metadata": {
    "id": "46HeyjpkKLaT"
   },
   "outputs": [],
   "source": [
    "#Creates a bar plot of the 20 most common values in the given column\n",
    "def distribution_by_category(df):\n",
    "    '''\n",
    "    Param df: dataframe of funds containing category type.\n",
    "\n",
    "    '''\n",
    "    cat_count=df['category'].value_counts()[:20]\n",
    "    sns.barplot(x=cat_count.values,y=cat_count.index)\n",
    "    plt.title('Distribution by Category')\n",
    "    plt.tight_layout\n",
    "    plt.show()"
   ]
  },
  {
   "cell_type": "code",
   "execution_count": null,
   "metadata": {
    "id": "1x5RjHnYKLaT",
    "outputId": "31abcc3b-8400-4c5e-ebf8-b20bdccf6d54"
   },
   "outputs": [],
   "source": [
    "plt.xlabel('Number of Mutual Funds')\n",
    "distribution_by_category(df_mf)"
   ]
  },
  {
   "cell_type": "code",
   "execution_count": null,
   "metadata": {
    "id": "UPvwBj57KLaT",
    "outputId": "2877ba0f-8c0a-4f8b-ba37-f8c4e237f8fd"
   },
   "outputs": [],
   "source": [
    "plt.xlabel('Number of ETFs')\n",
    "distribution_by_category(df_etf)"
   ]
  },
  {
   "cell_type": "code",
   "execution_count": null,
   "metadata": {
    "id": "xHkFHYMRKLaT"
   },
   "outputs": [],
   "source": [
    "#Draws a boxplot representing the dependent column as a function of the independent column\n",
    "def dep_by_indep_boxplot(df_joined,independent,dependent,fundtype):\n",
    "    '''\n",
    "    Param df_joined: dataframe containing both the independent and dependent columns\n",
    "    Param independent: column which serves as the independent variable\n",
    "    Param dependent: column which serves as the dependent variable which is analyzed and plotted according to the dependent column.\n",
    "    Param fundtype: Name of fund that is printed at the start of execution.\n",
    "    '''\n",
    "\n",
    "    print('\\n Distribution of {} according to {} in {}'.format(dependent,independent,fundtype)+':\\n')\n",
    "\n",
    "    colors=['blue','grey','magenta','yellow','cyan','orange']\n",
    "    criteria=[i for i in df_joined[independent].sort_values(ascending=True).dropna().unique()]\n",
    "    col_count=len(criteria)\n",
    "    table=df_joined.melt(id_vars=[independent],value_vars=[dependent]).dropna()\n",
    "\n",
    "    fig,ax=plt.subplots(nrows=1,ncols=col_count,figsize=(15,9))\n",
    "    for i in range(0,col_count):\n",
    "        sns.boxplot(data=table.where(table[independent]==criteria[i]).value,ax=ax[i],color=colors[i])\n",
    "        ax[i].set_title(independent + ' = ' + str(criteria[i]))\n",
    "        plt.tight_layout()\n",
    "    plt.show()\n",
    "\n"
   ]
  },
  {
   "cell_type": "code",
   "execution_count": null,
   "metadata": {
    "id": "OLWY_8kpKLaT",
    "outputId": "3f827e59-99b9-4d81-e017-bc66d19a853e"
   },
   "outputs": [],
   "source": [
    "#Price earnings ratio vs. risk rating for Mutual Funds\n",
    "joined=pd.merge(df_mf,df_mf_ratios)\n",
    "dep_by_indep_boxplot(joined,'risk_rating','price_earnings_ratio','Mutual Funds')"
   ]
  },
  {
   "cell_type": "code",
   "execution_count": null,
   "metadata": {
    "id": "TK08rgf-KLaU",
    "outputId": "2d66ed75-81b8-4522-c597-2b13e2368045"
   },
   "outputs": [],
   "source": [
    "#Mutual Fund size vs. alpha 3 years value\n",
    "joined=pd.merge(df_mf,df_mf_stats)\n",
    "dep_by_indep_boxplot(joined,'size_type','fund_alpha_3years','Mutual Fund')\n"
   ]
  },
  {
   "cell_type": "code",
   "execution_count": null,
   "metadata": {
    "id": "_tYMmilgKLaU",
    "outputId": "1ca0d06a-0db5-4f05-cc3e-34e6e1dc4bb4"
   },
   "outputs": [],
   "source": [
    "#ETF Fund size vs. alpha 3 years score\n",
    "joined=pd.merge(df_etf,df_etf_stats)\n",
    "dep_by_indep_boxplot(joined,'size_type','fund_alpha_3years','ETFs')"
   ]
  },
  {
   "cell_type": "code",
   "execution_count": null,
   "metadata": {
    "id": "U5-BrN7dKLaU",
    "outputId": "d484968f-c59c-4301-9a24-24f939bbfc47"
   },
   "outputs": [],
   "source": [
    "#Investment type vs. mutual fund YTD return\n",
    "joined=pd.merge(df_mf,df_mf_return_history)\n",
    "dep_by_indep_boxplot(joined,'investment_type','fund_return_ytd','Mutual Fund')"
   ]
  },
  {
   "cell_type": "code",
   "execution_count": null,
   "metadata": {
    "id": "mL8pAKEFKLaU",
    "outputId": "f442b422-9c28-4e51-8101-574b613e8156"
   },
   "outputs": [],
   "source": [
    "#Investment type vs. mutual fund YTD return\n",
    "joined=pd.merge(df_etf,df_etf_return_history)\n",
    "dep_by_indep_boxplot(joined,'investment_type','fund_return_ytd','ETFs')"
   ]
  },
  {
   "cell_type": "markdown",
   "metadata": {},
   "source": [
    "## Discussion Notes:\n",
    "- USE THE ARTICLE'S QUESTIONS AND CLEAR SEPARATION OF ANSWERS\n",
    "- For values used, try to summarize the key ones (3-5); if you end up writing a lot, then break it up"
   ]
  },
  {
   "cell_type": "markdown",
   "metadata": {
    "id": "yz_4U6oyKLaU"
   },
   "source": [
    "# __DATA DESCRIPTION:__"
   ]
  },
  {
   "cell_type": "markdown",
   "metadata": {
    "id": "5GmFsq8fKLaU"
   },
   "source": [
    "### __MOTIVATION__\n",
    "\n",
    "__Why was this dataset created? __\n",
    "- These datasets were created to allow for multiple comparisons regarding portfolio decisions from investment managers in Mutual Funds and portfolio restrictions to the indexes in ETFs. The inspiration comes from the 2017 hype regarding ETFs, that convinced many investors to buy shares of Exchange Traded Funds rather than Mutual Funds.\n",
    "\n",
    "__Who funded the creation of the dataset?__\n",
    "- It is unclear who funded the creation of the dataset, but the data has been scraped from the publicly available website https://finance.yahoo.com.\n",
    "\n",
    "\n",
    "\n",
    "\n"
   ]
  },
  {
   "cell_type": "markdown",
   "metadata": {
    "id": "KaEBx44HKLaV"
   },
   "source": [
    "### __COMPOSITION__\n",
    "\n",
    "__What do the instances that comprise the dataset represent? __\n",
    "- The instances that comprise the dataset represent fund symbols, asset stocks, asset bonds, net asset value (assets in the form of money), explained investment strategies, etc.\n",
    "\n",
    "__Are there any errors, sources of noise, or redundancies in the dataset? __\n",
    "- There were errors in the dataset for ETFs which were empty columns. There were also some missing data values such as in the fund return columns. To account for this, we dropped the empty columns and the missing values as a way to clean the dataset with efficiency.\n",
    "\n",
    "__Is the dataset self-contained, or does it link to or otherwise rely on external resources?__\n",
    "- While the dataset is self-contained, the data was scraped from publicly available website https://finance.yahoo.com. The data is fully usable, meaning it is easy to understand and contains essential metadata, has rich, machine readable file formats and metadata, and there is assurance that the dataset is maintained. The license is CC0: Public Domain, meaning there are not any restrictions to a user. The creator of this dataset placed no copyrights or restrictions on it.\n",
    "\n",
    "__What are the observations (rows) and the attributes (columns)?__\n",
    "- Columns (ETF):\n",
    "    - Fund_symbol: A ticker symbol or stock symbol is an abbreviation used to uniquely identify publicly traded shares of a particular stock on a particular stock market. A stock symbol may consist of letters, numbers or a combination of both.\n",
    "    - Fund_extended_name: The full name of the fund that is given to us by their fund symbol\n",
    "Fund_family: A fund family includes all the separate funds managed by a single investment company.\n",
    "    - Inception_date: The date on which the fund began its operations.\n",
    "    - Category: A fund category is a way of differentiating mutual funds according to their investment objectives and principal investment features. This categorization allows investors to spread their money around in a mix of funds with a variety of risk and return characteristics.\n",
    "    - Investment_strategy: An investment strategy is what guides an investor's decisions based on goals, risk tolerance, and future needs for capital. Some investment strategies seek rapid growth where an investor focuses on capital appreciation, or they can follow a low-risk strategy where the focus is on wealth protection.\n",
    "    - Investment_type: One of three investment types.\n",
    "        - Growth Fund: a mutual fund that invests primarily in stocks that are expected to increase in capital value rather than yield high income.\n",
    "        - Value Fund: A value fund follows a policy that focuses on investing in stocks based on fundamental characteristics that are undervalued in quality. Quality fund managers are looking for shares that are valued below their actual value for different reasons.\n",
    "        - Blend Fund: Blend funds, which contain only stocks and no fixed-income securities, are a type of equity fund that holds a mix of both growth stock and value stock.\n",
    "    - Size_type: Size of the fund\n",
    "    - Currency: Currency that the fund uses\n",
    "    - Fund_net_annual_expense_ratio: The net expense ratio is what fund shareholders pay to be invested in the fund after fee waivers or reimbursements.\n",
    "    - Category_net_annual_expense_ratio: The same thing as a fund net annual expense ratio but with regards to the category rather than the fund\n",
    "    - Asset_stocks: percentage of stocks in the fund portfolio\n",
    "    - Asset_bonds: percentage of bonds in the fund portfolio\n",
    "    - Price_earnings_ratio: The price-earnings ratio, also known as P/E ratio, P/E, or PER, is the ratio of a company's share price to the company's earnings per share. The ratio is used for valuing companies and to find out whether they are overvalued or undervalued\n",
    "    - Price_book_ratio: The price-to-book ratio, or P/B ratio, is a financial ratio used to compare a company's current market value to its book value.\n",
    "    - Price_sales_ratio: Price–sales ratio, P/S ratio, or PSR, is a valuation metric for stocks. It is calculated by dividing the company's market capitalization by the revenue in the most recent year; or, equivalently, divide the per-share stock price by the per-share revenue.\n",
    "    - Price_cashflow_ratio: The price/cash flow ratio, is a ratio used to compare a company's market value to its cash flow.\n",
    "    - Sector_basic_materials: percentage of portfolio securities that belong to the basic materials sector\n",
    "    - Sector_consumer_cyclical: percentage of portfolio securities that belong to the consumer cyclical sector\n",
    "    - Sector_financial_services: percentage of portfolio securities that belong to the financial services sector\n",
    "    - Sector_real_estate: percentage of portfolio securities that belong to the real estate sector\n",
    "    - Sector_consumer_defensive: percentage of portfolio securities that belong to the consumer defensive sector\n",
    "    - Sector_healthcare: percentage of portfolio securities that belong to the healthcare sector\n",
    "    - Sector_utilities: percentage of portfolio securities that belong to the utilities sector\n",
    "    - Sector_communication_services: percentage of portfolio securities that belong to the communication services sector\n",
    "    - Sector_energy: percentage of portfolio securities that belong to the energy sector\n",
    "    - Sector_industrials: percentage of portfolio securities that belong to the industrials sector\n",
    "    - Sector_technology: percentage of portfolio securities that belong to the technology sector\n",
    "    - Credit_us_government: percentage of US government bonds in the fund portfolio\n",
    "    - Credit_aaa: percentage of AAA bonds in the fund portfolio. A Triple-A (AAA) bond rating is the highest rating bond agencies award to an investment considered to have a low risk of default, thereby making it the most creditworthy.\n",
    "    - Credit_aa: percentage of AA bonds in the fund portfolio. AA is considered to be a high grade for a bond, but not quite a prime grade (that would be AAA). While a AAA rating means that a bond has \"virtually\" no chance of default, a AA rating means that there is a \"low\" chance of a default.\n",
    "    - Credit_a: percentage of A bonds in the fund portfolio.  \"A\" (medium credit quality) is considered investment grade.\n",
    "    - Credit_bbb: percentage of BBB bonds in the fund portfolio.  \"BBB\" (medium credit quality) is considered investment grade.\n",
    "    - Credit_bb: percentage of BB bonds in the fund portfolio. A BB rating is below investment-grade or sometimes referred to as high-yield or junk.\n",
    "    - Credit_b: Percentage of B bonds in the fund portfolio. “B” rankings are considered low credit quality, and are commonly referred to as \"junk bonds.\"\n",
    "    - Credit_below_b: percentage of bonds with rating below B in the fund portfolio. Credit ratings for bonds below “B” are considered low credit quality, and are commonly referred to as \"junk bonds.\"\n",
    "    - Credit_other_ratings: percentage of bonds with other ratings in the fund portfolio.\n",
    "    - Net_asset_value: the value of a mutual fund that is reached by deducting the fund's liabilities from the market value of all of its shares and then dividing by the number of issued shares.\n",
    "    - Fund_yield: income returned to its investors through interest and dividends generated by the fund's investments.\n",
    "    - Top10_holdings: security names and portfolio allocations of the top 10 fund holdings.\n",
    "    - Fund_return_ytd: the money made or lost on an investment by the fund over some period of time (in this case the year to date).\n",
    "    - Category_return_ytd: the money made or lost on an investment by the category over some period of time (in this case the year to date).\n",
    "    - Fund_return_1month: the money made or lost on an investment by the fund over the period of one month.\n",
    "    - Category_return_1month: the money made or lost on an investment by the category over the period of one month.\n",
    "    - Fund_return_3months: the money made or lost on an investment by the fund over the period of three months.\n",
    "    - Category_return_3months: the money made or lost on an investment by the category over the period of three months.\n",
    "    - Fund_return_1year: the money made or lost on an investment by the fund over the period of one year.\n",
    "    - Category_return_1year: the money made or lost on an investment by the category over the period of one year.\n",
    "    - Fund_return_3years: the money made or lost on an investment by the fund over the period of three years.\n",
    "    - Category_return_3years: the money made or lost on an investment by the category over the period of three years.\n",
    "    - Fund_return_5years: the money made or lost on an investment by the fund over the period of five years.\n",
    "    - Category_return_5year: the money made or lost on an investment by the category over the period of five years.\n",
    "    - Fund_return_10years: the money made or lost on an investment by the fund over the period of ten years.\n",
    "    - Category_return_10years: the money made or lost on an investment by the category over the period of ten years.\n",
    "    - Fund_return_2019: the money made or lost on an investment by the fund in 2019.\n",
    "    - Category_return_2019: the money made or lost on an investment by the category in 2019.\n",
    "    - Fund_return_2018: the money made or lost on an investment by the fund in 2019.\n",
    "    - Category_return_2018: the money made or lost on an investment by the category in 2018.\n",
    "    - Fund_return_2017: the money made or lost on an investment by the fund in 2017.\n",
    "    - Category_return_2017: the money made or lost on an investment by the category in 2017.\n",
    "    - Fund_return_2016: the money made or lost on an investment by the fund in 2016.\n",
    "    - Category_return_2016: the money made or lost on an investment by the category in 2016.\n",
    "    - Fund_return_2015: the money made or lost on an investment by the fund in 2015.\n",
    "    - Category_return_2015: the money made or lost on an investment by the category in 2015.\n",
    "    - Fund_return_2014: the money made or lost on an investment by the fund in 2014.\n",
    "    - Category_return_2014: the money made or lost on an investment by the category in 2014.\n",
    "    - Fund_return_2013: the money made or lost on an investment by the fund in 2013.\n",
    "    - Category_return_2013: the money made or lost on an investment by the category in 2013.\n",
    "    - Fund_return_2012: the money made or lost on an investment by the fund in 2012.\n",
    "    - Category_return_2012: the money made or lost on an investment by the category in 2012.\n",
    "    - Fund_return_2011: the money made or lost on an investment by the fund in 2011.\n",
    "    - Category_return_2011: the money made or lost on an investment by the category in 2011.\n",
    "    - Fund_return_2010: the money made or lost on an investment by the fund in 2010.\n",
    "    - Category_return_2010: the money made or lost on an investment by the category in 2010.\n",
    "    - Years_up: years with positive fund returns\n",
    "    - Years_down: years with negative fund returns\n",
    "    - Fund_alpha_3years: A three year measure of a funds investment's performance on a risk-adjusted basis. (Simply stated, alpha is often considered to represent the value that a portfolio manager adds or subtracts from a fund portfolio's return.)\n",
    "    - Category_alpha_3years: A three year measure of a category’s investment's performance on a risk-adjusted basis. (Simply stated, alpha is often considered to represent the value that a portfolio manager adds or subtracts from a fund portfolio's return.)\n",
    "    - Fund_alpha_5years: A five year measure of a fund’s investment's performance on a risk-adjusted basis. (Simply stated, alpha is often considered to represent the value that a portfolio manager adds or subtracts from a fund portfolio's return.)\n",
    "    - Category_alpha_5years: A five year measure of a category’s investment's performance on a risk-adjusted basis. (Simply stated, alpha is often considered to represent the value that a portfolio manager adds or subtracts from a fund portfolio's return.)\n",
    "    - Fund_alpha_10years: A ten year measure of a fund’s investment's performance on a risk-adjusted basis. (Simply stated, alpha is often considered to represent the value that a portfolio manager adds or subtracts from a fund portfolio's return.)\n",
    "    - Category_alpha_10years: A ten year measure of a category’s investment's performance on a risk-adjusted basis. (Simply stated, alpha is often considered to represent the value that a portfolio manager adds or subtracts from a fund portfolio's return.)\n",
    "    - Fund_beta_3years: A measure of how volatile an investor can expect the fund to be over three years compared to the overall market. A beta of more than one means that the fund is more volatile than the overall market, and a beta of less than one means that it is less volatile.\n",
    "    - Category_beta_3years: A measure of how volatile an investor can expect the category to be over three years compared to the overall market. A beta of more than one means that the fund is more volatile than the overall market, and a beta of less than one means that it is less volatile.\n",
    "    - Fund_beta_5years: A measure of how volatile an investor can expect the fund to be over five years compared to the overall market. A beta of more than one means that the fund is more volatile than the overall market, and a beta of less than one means that it is less volatile.\n",
    "    - Category_beta_5years: A measure of how volatile an investor can expect the category to be over five years compared to the overall market. A beta of more than one means that the fund is more volatile than the overall market, and a beta of less than one means that it is less volatile.\n",
    "    - Fund_beta_10years: A measure of how volatile an investor can expect the fund to be over ten years compared to the overall market. A beta of more than one means that the fund is more volatile than the overall market, and a beta of less than one means that it is less volatile.\n",
    "    - Category_beta_10years: A measure of how volatile an investor can expect the category to be over ten years compared to the overall market. A beta of more than one means that the fund is more volatile than the overall market, and a beta of less than one means that it is less volatile.\n",
    "    - Fund_mean_annual_return_3years: The yearly average amount of money made or lost on an investment by the fund over the period of three years.\n",
    "    - Category_mean_annual_return_3years: The yearly average amount of money made or lost on an investment by the category over the period of three years.\n",
    "    - Fund_mean_annual_return_5years: The yearly average amount of money made or lost on an investment by the fund over the period of five years.\n",
    "    - Category_mean_annual_return_5years: The yearly average amount of money made or lost on an investment by the category over the period of five years.\n",
    "    - Fund_mean_annual_return_10years: The yearly average amount of money made or lost on an investment by the fund over the period of ten years.\n",
    "    - Category_mean_annual_return_10years: The yearly average amount of money made or lost on an investment by the category over the period of ten years.\n",
    "    - Fund_r_squared_3years: A measure of the percentage of a fund's performance as a result of a benchmark over the period of three years. Fund managers use a benchmark to evaluate the performance of a mutual fund.\n",
    "    - Category_r_squared_3years: A measure of the percentage of a category’s performance as a result of a benchmark over the period of three years. Fund managers use a benchmark to evaluate the performance of a mutual fund.\n",
    "    - Fund_r_squared_5years: A measure of the percentage of a fund's performance as a result of a benchmark over the period of five years. Fund managers use a benchmark to evaluate the performance of a mutual fund.\n",
    "    - Category_r_squared_5years: A measure of the percentage of a category’s performance as a result of a benchmark over the period of five years. Fund managers use a benchmark to evaluate the performance of a mutual fund.\n",
    "    - Fund_r_squared_10years: A measure of the percentage of a fund's performance as a result of a benchmark over the period of ten years. Fund managers use a benchmark to evaluate the performance of a mutual fund.\n",
    "    - Category_r_squared_10years: A measure of the percentage of a category’s  performance as a result of a benchmark over the period of ten years. Fund managers use a benchmark to evaluate the performance of a mutual fund.\n",
    "    - Fund_standard_deviation_3years: A measure that tells us how much the return on a fund is deviating over a three year period from the expected returns based on its historical performance.\n",
    "    - Category_standard_deviation_3years: A measure that tells us how much the return on a category is deviating over a three year period from the expected returns based on its historical performance.\n",
    "    - Fund_standard_deviation_5years: A measure that tells us how much the return on a fund is deviating over a five year period from the expected returns based on its historical performance.\n",
    "    - Category_standard_deviation_5years: A measure that tells us how much the return on a category is deviating over a five year period from the expected returns based on its historical performance.\n",
    "    - Fund_standard_deviation_10years: A measure that tells us how much the return on a fund is deviating over a ten year period from the expected returns based on its historical performance.\n",
    "    - Category_standard_deviation_10years: A measure that tells us how much the return on a category is deviating over a ten year period from the expected returns based on its historical performance.\n",
    "    - Fund_sharpe_ratio_3years: A measure of the performance of a fund’s investment compared to a risk-free asset, after adjusting for its risk over a three year period. It is defined as the difference between the returns of the investment and the risk-free return, divided by the standard deviation of the investment.\n",
    "    - Category_sharpe_ratio_3years: A measure of the performance of a category’s investment compared to a risk-free asset, after adjusting for its risk over a three year period. It is defined as the difference between the returns of the investment and the risk-free return, divided by the standard deviation of the investment.\n",
    "    - Fund_sharpe_ratio_5years: A measure of the performance of a fund’s investment compared to a risk-free asset, after adjusting for its risk over a five year period. It is defined as the difference between the returns of the investment and the risk-free return, divided by the standard deviation of the investment.\n",
    "    - Category_sharpe_ratio_5years: A measure of the performance of a category’s investment compared to a risk-free asset, after adjusting for its risk over a five year period. It is defined as the difference between the returns of the investment and the risk-free return, divided by the standard deviation of the investment.\n",
    "    - Fund_sharpe_ratio_10years: A measure of the performance of a fund’s investment compared to a risk-free asset, after adjusting for its risk over a ten year period. It is defined as the difference between the returns of the investment and the risk-free return, divided by the standard deviation of the investment.\n",
    "    - Category_sharpe_ratio_10years: A measure of the performance of a category’s investment compared to a risk-free asset, after adjusting for its risk over a ten year period. It is defined as the difference between the returns of the investment and the risk-free return, divided by the standard deviation of the investment.\n",
    "    - Fund_treynor_ratio_3years: A measure of the returns earned by a fund more than the risk-free return at a given level of market risk over a three year period. It highlights the risk-adjusted profits generated by a mutual fund scheme.\n",
    "    - Category_treynor_ratio_3years: A measure of the returns earned by a category more than the risk-free return at a given level of market risk over a three year period. It highlights the risk-adjusted profits generated by a mutual fund scheme.\n",
    "    - Fund_treynor_ratio_5years: A measure of the returns earned by a fund more than the risk-free return at a given level of market risk over a five year period. It highlights the risk-adjusted profits generated by a mutual fund scheme.\n",
    "    - Category_treynor_ratio_5years: A measure of the returns earned by a category more than the risk-free return at a given level of market risk over a five year period. It highlights the risk-adjusted profits generated by a mutual fund scheme.\n",
    "    - Fund_treynor_ratio_10years: A measure of the returns earned by a fund more than the risk-free return at a given level of market risk over a ten year period. It highlights the risk-adjusted profits generated by a mutual fund scheme.\n",
    "    - Category_treynor_ratio_10years: A measure of the returns earned by a category more than the risk-free return at a given level of market risk over a ten year period. It highlights the risk-adjusted profits generated by a mutual fund scheme.\n",
    "    \n",
    "- Rows (ETF):\n",
    "    - Each row represents the information that is described in each column for the distinct fund\n",
    "\n",
    "\n",
    "- Columns (Mutual Funds):\n",
    "    - Fund_symbol: A ticker symbol or stock symbol is an abbreviation used to uniquely identify publicly traded shares of a particular stock on a particular stock market. A stock symbol may consist of letters, numbers or a combination of both.\n",
    "    - Fund_extended_name: The full name of the fund that is given to us by their fund symbol\n",
    "Fund_family: A fund family includes all the separate funds managed by a single investment company.\n",
    "    - Inception_date: The date on which the fund began its operations.\n",
    "    - Category: A fund category is a way of differentiating mutual funds according to their investment objectives and principal investment features. This categorization allows investors to spread their money around in a mix of funds with a variety of risk and return characteristics.\n",
    "    - Investment_strategy: An investment strategy is what guides an investor's decisions based on goals, risk tolerance, and future needs for capital. Some investment strategies seek rapid growth where an investor focuses on capital appreciation, or they can follow a low-risk strategy where the focus is on wealth protection.\n",
    "    - Investment_type: One of three investment types.\n",
    "        - Growth Fund: a mutual fund that invests primarily in stocks that are expected to increase in capital value rather than yield high income.\n",
    "        - Value Fund: A value fund follows a policy that focuses on investing in stocks based on fundamental characteristics that are undervalued in quality. Quality fund managers are looking for shares that are valued below their actual value for different reasons.\n",
    "        - Blend Fund: Blend funds, which contain only stocks and no fixed-income securities, are a type of equity fund that holds a mix of both growth stock and value stock.\n",
    "    - Size_type: Size of the fund\n",
    "    - Currency: Currency that the fund uses\n",
    "    - Fund_net_annual_expense_ratio: The net expense ratio is what fund shareholders pay to be invested in the fund after fee waivers or reimbursements.\n",
    "    - Category_net_annual_expense_ratio: The same thing as a fund net annual expense ratio but with regards to the category rather than the fund\n",
    "    - Asset_stocks: percentage of stocks in the fund portfolio\n",
    "    - Asset_bonds: percentage of bonds in the fund portfolio\n",
    "    - Price_earnings_ratio: The price-earnings ratio, also known as P/E ratio, P/E, or PER, is the ratio of a company's share price to the company's earnings per share. The ratio is used for valuing companies and to find out whether they are overvalued or undervalued\n",
    "    - Price_book_ratio: The price-to-book ratio, or P/B ratio, is a financial ratio used to compare a company's current market value to its book value.\n",
    "    - Price_sales_ratio: Price–sales ratio, P/S ratio, or PSR, is a valuation metric for stocks. It is calculated by dividing the company's market capitalization by the revenue in the most recent year; or, equivalently, divide the per-share stock price by the per-share revenue.\n",
    "    - Price_cashflow_ratio: The price/cash flow ratio, is a ratio used to compare a company's market value to its cash flow.\n",
    "    - Sector_basic_materials: percentage of portfolio securities that belong to the basic materials sector\n",
    "    - Sector_consumer_cyclical: percentage of portfolio securities that belong to the consumer cyclical sector\n",
    "    - Sector_financial_services: percentage of portfolio securities that belong to the financial services sector\n",
    "    - Sector_real_estate: percentage of portfolio securities that belong to the real estate sector\n",
    "    - Sector_consumer_defensive: percentage of portfolio securities that belong to the consumer defensive sector\n",
    "    - Sector_healthcare: percentage of portfolio securities that belong to the healthcare sector\n",
    "    - Sector_utilities: percentage of portfolio securities that belong to the utilities sector\n",
    "    - Sector_communication_services: percentage of portfolio securities that belong to the communication services sector\n",
    "    - Sector_energy: percentage of portfolio securities that belong to the energy sector\n",
    "    - Sector_industrials: percentage of portfolio securities that belong to the industrials sector\n",
    "    - Sector_technology: percentage of portfolio securities that belong to the technology sector\n",
    "    - Credit_us_government: percentage of US government bonds in the fund portfolio\n",
    "    - Credit_aaa: percentage of AAA bonds in the fund portfolio. A Triple-A (AAA) bond rating is the highest rating bond agencies award to an investment considered to have a low risk of default, thereby making it the most creditworthy.\n",
    "    - Credit_aa: percentage of AA bonds in the fund portfolio. AA is considered to be a high grade for a bond, but not quite a prime grade (that would be AAA). While a AAA rating means that a bond has \"virtually\" no chance of default, a AA rating means that there is a \"low\" chance of a default.\n",
    "    - Credit_a: percentage of A bonds in the fund portfolio.  \"A\" (medium credit quality) is considered investment grade.\n",
    "    - Credit_bbb: percentage of BBB bonds in the fund portfolio.  \"BBB\" (medium credit quality) is considered investment grade.\n",
    "    - Credit_bb: percentage of BB bonds in the fund portfolio. A BB rating is below investment-grade or sometimes referred to as high-yield or junk.\n",
    "    - Credit_b: Percentage of B bonds in the fund portfolio. “B” rankings are considered low credit quality, and are commonly referred to as \"junk bonds.\"\n",
    "    - Credit_below_b: percentage of bonds with rating below B in the fund portfolio. Credit ratings for bonds below “B” are considered low credit quality, and are commonly referred to as \"junk bonds.\"\n",
    "    - Credit_other_ratings: percentage of bonds with other ratings in the fund portfolio.\n",
    "    - Net_asset_value: the value of a mutual fund that is reached by deducting the fund's liabilities from the market value of all of its shares and then dividing by the number of issued shares.\n",
    "    - Fund_yield: income returned to its investors through interest and dividends generated by the fund's investments.\n",
    "    - Top10_holdings: security names and portfolio allocations of the top 10 fund holdings.\n",
    "    - Fund_return_ytd: the money made or lost on an investment by the fund over some period of time (in this case the year to date).\n",
    "    - Category_return_ytd: the money made or lost on an investment by the category over some period of time (in this case the year to date).\n",
    "    - Fund_return_1month: the money made or lost on an investment by the fund over the period of one month.\n",
    "    - Category_return_1month: the money made or lost on an investment by the category over the period of one month.\n",
    "    - Fund_return_3months: the money made or lost on an investment by the fund over the period of three months.\n",
    "    - Category_return_3months: the money made or lost on an investment by the category over the period of three months.\n",
    "    - Fund_return_1year: the money made or lost on an investment by the fund over the period of one year.\n",
    "    - Category_return_1year: the money made or lost on an investment by the category over the period of one year.\n",
    "    - Fund_return_3years: the money made or lost on an investment by the fund over the period of three years.\n",
    "    - Category_return_3years: the money made or lost on an investment by the category over the period of three years.\n",
    "    - Fund_return_5years: the money made or lost on an investment by the fund over the period of five years.\n",
    "    - Category_return_5year: the money made or lost on an investment by the category over the period of five years.\n",
    "    - Fund_return_10years: the money made or lost on an investment by the fund over the period of ten years.\n",
    "    - Category_return_10years: the money made or lost on an investment by the category over the period of ten years.\n",
    "    - Fund_return_2019: the money made or lost on an investment by the fund in 2019.\n",
    "    - Category_return_2019: the money made or lost on an investment by the category in 2019.\n",
    "    - Fund_return_2018: the money made or lost on an investment by the fund in 2019.\n",
    "    - Category_return_2018: the money made or lost on an investment by the category in 2018.\n",
    "    - Fund_return_2017: the money made or lost on an investment by the fund in 2017.\n",
    "    - Category_return_2017: the money made or lost on an investment by the category in 2017.\n",
    "    - Fund_return_2016: the money made or lost on an investment by the fund in 2016.\n",
    "    - Category_return_2016: the money made or lost on an investment by the category in 2016.\n",
    "    - Fund_return_2015: the money made or lost on an investment by the fund in 2015.\n",
    "    - Category_return_2015: the money made or lost on an investment by the category in 2015.\n",
    "    - Fund_return_2014: the money made or lost on an investment by the fund in 2014.\n",
    "    - Category_return_2014: the money made or lost on an investment by the category in 2014.\n",
    "    - Fund_return_2013: the money made or lost on an investment by the fund in 2013.\n",
    "    - Category_return_2013: the money made or lost on an investment by the category in 2013.\n",
    "    - Fund_return_2012: the money made or lost on an investment by the fund in 2012.\n",
    "    - Category_return_2012: the money made or lost on an investment by the category in 2012.\n",
    "    - Fund_return_2011: the money made or lost on an investment by the fund in 2011.\n",
    "    - Category_return_2011: the money made or lost on an investment by the category in 2011.\n",
    "    - Fund_return_2010: the money made or lost on an investment by the fund in 2010.\n",
    "    - Category_return_2010: the money made or lost on an investment by the category in 2010.\n",
    "    - Years_up: years with positive fund returns\n",
    "    - Years_down: years with negative fund returns\n",
    "    - Fund_alpha_3years: A three year measure of a funds investment's performance on a risk-adjusted basis. (Simply stated, alpha is often considered to represent the value that a portfolio manager adds or subtracts from a fund portfolio's return.)\n",
    "    - Category_alpha_3years: A three year measure of a category’s investment's performance on a risk-adjusted basis. (Simply stated, alpha is often considered to represent the value that a portfolio manager adds or subtracts from a fund portfolio's return.)\n",
    "    - Fund_alpha_5years: A five year measure of a fund’s investment's performance on a risk-adjusted basis. (Simply stated, alpha is often considered to represent the value that a portfolio manager adds or subtracts from a fund portfolio's return.)\n",
    "    - Category_alpha_5years: A five year measure of a category’s investment's performance on a risk-adjusted basis. (Simply stated, alpha is often considered to represent the value that a portfolio manager adds or subtracts from a fund portfolio's return.)\n",
    "    - Fund_alpha_10years: A ten year measure of a fund’s investment's performance on a risk-adjusted basis. (Simply stated, alpha is often considered to represent the value that a portfolio manager adds or subtracts from a fund portfolio's return.)\n",
    "    - Category_alpha_10years: A ten year measure of a category’s investment's performance on a risk-adjusted basis. (Simply stated, alpha is often considered to represent the value that a portfolio manager adds or subtracts from a fund portfolio's return.)\n",
    "    - Fund_beta_3years: A measure of how volatile an investor can expect the fund to be over three years compared to the overall market. A beta of more than one means that the fund is more volatile than the overall market, and a beta of less than one means that it is less volatile.\n",
    "    - Category_beta_3years: A measure of how volatile an investor can expect the category to be over three years compared to the overall market. A beta of more than one means that the fund is more volatile than the overall market, and a beta of less than one means that it is less volatile.\n",
    "    - Fund_beta_5years: A measure of how volatile an investor can expect the fund to be over five years compared to the overall market. A beta of more than one means that the fund is more volatile than the overall market, and a beta of less than one means that it is less volatile.\n",
    "    - Category_beta_5years: A measure of how volatile an investor can expect the category to be over five years compared to the overall market. A beta of more than one means that the fund is more volatile than the overall market, and a beta of less than one means that it is less volatile.\n",
    "    - Fund_beta_10years: A measure of how volatile an investor can expect the fund to be over ten years compared to the overall market. A beta of more than one means that the fund is more volatile than the overall market, and a beta of less than one means that it is less volatile.\n",
    "    - Category_beta_10years: A measure of how volatile an investor can expect the category to be over ten years compared to the overall market. A beta of more than one means that the fund is more volatile than the overall market, and a beta of less than one means that it is less volatile.\n",
    "    - Fund_mean_annual_return_3years: The yearly average amount of money made or lost on an investment by the fund over the period of three years.\n",
    "    - Category_mean_annual_return_3years: The yearly average amount of money made or lost on an investment by the category over the period of three years.\n",
    "    - Fund_mean_annual_return_5years: The yearly average amount of money made or lost on an investment by the fund over the period of five years.\n",
    "    - Category_mean_annual_return_5years: The yearly average amount of money made or lost on an investment by the category over the period of five years.\n",
    "    - Fund_mean_annual_return_10years: The yearly average amount of money made or lost on an investment by the fund over the period of ten years.\n",
    "    - Category_mean_annual_return_10years: The yearly average amount of money made or lost on an investment by the category over the period of ten years.\n",
    "    - Fund_r_squared_3years: A measure of the percentage of a fund's performance as a result of a benchmark over the period of three years. Fund managers use a benchmark to evaluate the performance of a mutual fund.\n",
    "    - Category_r_squared_3years: A measure of the percentage of a category’s performance as a result of a benchmark over the period of three years. Fund managers use a benchmark to evaluate the performance of a mutual fund.\n",
    "    - Fund_r_squared_5years: A measure of the percentage of a fund's performance as a result of a benchmark over the period of five years. Fund managers use a benchmark to evaluate the performance of a mutual fund.\n",
    "    - Category_r_squared_5years: A measure of the percentage of a category’s performance as a result of a benchmark over the period of five years. Fund managers use a benchmark to evaluate the performance of a mutual fund.\n",
    "    - Fund_r_squared_10years: A measure of the percentage of a fund's performance as a result of a benchmark over the period of ten years. Fund managers use a benchmark to evaluate the performance of a mutual fund.\n",
    "    - Category_r_squared_10years: A measure of the percentage of a category’s  performance as a result of a benchmark over the period of ten years. Fund managers use a benchmark to evaluate the performance of a mutual fund.\n",
    "    - Fund_standard_deviation_3years: A measure that tells us how much the return on a fund is deviating over a three year period from the expected returns based on its historical performance.\n",
    "    - Category_standard_deviation_3years: A measure that tells us how much the return on a category is deviating over a three year period from the expected returns based on its historical performance.\n",
    "    - Fund_standard_deviation_5years: A measure that tells us how much the return on a fund is deviating over a five year period from the expected returns based on its historical performance.\n",
    "    - Category_standard_deviation_5years: A measure that tells us how much the return on a category is deviating over a five year period from the expected returns based on its historical performance.\n",
    "    - Fund_standard_deviation_10years: A measure that tells us how much the return on a fund is deviating over a ten year period from the expected returns based on its historical performance.\n",
    "    - Category_standard_deviation_10years: A measure that tells us how much the return on a category is deviating over a ten year period from the expected returns based on its historical performance.\n",
    "    - Fund_sharpe_ratio_3years: A measure of the performance of a fund’s investment compared to a risk-free asset, after adjusting for its risk over a three year period. It is defined as the difference between the returns of the investment and the risk-free return, divided by the standard deviation of the investment.\n",
    "    - Category_sharpe_ratio_3years: A measure of the performance of a category’s investment compared to a risk-free asset, after adjusting for its risk over a three year period. It is defined as the difference between the returns of the investment and the risk-free return, divided by the standard deviation of the investment.\n",
    "    - Fund_sharpe_ratio_5years: A measure of the performance of a fund’s investment compared to a risk-free asset, after adjusting for its risk over a five year period. It is defined as the difference between the returns of the investment and the risk-free return, divided by the standard deviation of the investment.\n",
    "    - Category_sharpe_ratio_5years: A measure of the performance of a category’s investment compared to a risk-free asset, after adjusting for its risk over a five year period. It is defined as the difference between the returns of the investment and the risk-free return, divided by the standard deviation of the investment.\n",
    "    - Fund_sharpe_ratio_10years: A measure of the performance of a fund’s investment compared to a risk-free asset, after adjusting for its risk over a ten year period. It is defined as the difference between the returns of the investment and the risk-free return, divided by the standard deviation of the investment.\n",
    "    - Category_sharpe_ratio_10years: A measure of the performance of a category’s investment compared to a risk-free asset, after adjusting for its risk over a ten year period. It is defined as the difference between the returns of the investment and the risk-free return, divided by the standard deviation of the investment.\n",
    "    - Fund_treynor_ratio_3years: A measure of the returns earned by a fund more than the risk-free return at a given level of market risk over a three year period. It highlights the risk-adjusted profits generated by a mutual fund scheme.\n",
    "    - Category_treynor_ratio_3years: A measure of the returns earned by a category more than the risk-free return at a given level of market risk over a three year period. It highlights the risk-adjusted profits generated by a mutual fund scheme.\n",
    "    - Fund_treynor_ratio_5years: A measure of the returns earned by a fund more than the risk-free return at a given level of market risk over a five year period. It highlights the risk-adjusted profits generated by a mutual fund scheme.\n",
    "    - Category_treynor_ratio_5years: A measure of the returns earned by a category more than the risk-free return at a given level of market risk over a five year period. It highlights the risk-adjusted profits generated by a mutual fund scheme.\n",
    "    - Fund_treynor_ratio_10years: A measure of the returns earned by a fund more than the risk-free return at a given level of market risk over a ten year period. It highlights the risk-adjusted profits generated by a mutual fund scheme.\n",
    "    - Category_treynor_ratio_10years: A measure of the returns earned by a category more than the risk-free return at a given level of market risk over a ten year period. It highlights the risk-adjusted profits generated by a mutual fund scheme.\n",
    "\n",
    "\n",
    "\n",
    "- Rows (Mutual Funds):\n",
    "    - Each row represents the information that is described in each column for the distinct fund\n",
    "\n"
   ]
  },
  {
   "cell_type": "markdown",
   "metadata": {
    "id": "JPvSX6h9KLaW"
   },
   "source": [
    "### __COLLECTION PROCESS__\n",
    "\n",
    "__What processes might have influenced what data was observed and recorded and what was not? __\n",
    "- The data that is in the dataset was collected from the public website of Yahoo Finance. The fact that this is a public site might have influenced what data was observed and recorded because it is data that is readily available, as opposed to medical data which is harder to obtain/is usually private. Furthermore, the which data was observed or collected was possibly influenced by its ability to allow comparisons regarding portfolio decisions. Lastly, data was collected on specific financial instruments like ETFs and mutual funds, so data on another financial instrument like municipal bonds would’ve been ignored.\n",
    "\n",
    "__Over what time frame was the data collected?__\n",
    "- The timeframe of the data contains stock returns up to date to November of 2020. The data provides a stronger answer to the broader question of ETF success now.\n",
    "\n",
    "__How was the data associated with each instance acquired?__\n",
    "- The data was directly observable- rates, prices, text, etc. This data was scraped from Morningstar through Yahoo Finance. The job of Morningstar is to provide financial ratios, market capitalization, and outstanding shares through real time data.\n",
    "\n",
    "__What preprocessing was done, and how did the data come to be in the form that you are using?__\n",
    "- Data was scraped from the public website https://finance.yahoo.com to make the original dataset. We broke up the ETF dataset into separate dataframes to make it easier to work with. For example, we made a dataframe just for the standard deviations of the funds. We also made a dataframe just for different fund ratios, such as the price earnings ratio and the price book ratio. We cleaned by key words in order to make each individual dataframe have a purpose. We dropped empty columns/values as well."
   ]
  },
  {
   "cell_type": "markdown",
   "metadata": {
    "id": "8WWu5dANKLaW"
   },
   "source": [
    "# __DATA LIMITATIONS__:"
   ]
  },
  {
   "cell_type": "markdown",
   "metadata": {},
   "source": [
    "## Discussion Notes\n",
    "- What does these limitations mean? \n",
    "- Does it prevent us from answering the research question? If not, what specifically does it hinder us from? "
   ]
  },
  {
   "cell_type": "markdown",
   "metadata": {
    "id": "xhvUXoe3KLaW"
   },
   "source": [
    "__The two main limitations of our data set that have been noticed are:__\n",
    "\n",
    "1. Missing information within specific columns of the dataset. For example the column 'median_market_cap' in the ETF dataframe contains lots of values of 0.0 .This makes analysis of median market cap more difficult - how do we deal with these zero values? Excluding these values of 0.0 might introduce bias into our analysis. The ETFs that have median market caps of 0.0 might share a common trait that is no longer being factored into the analysis if we were to remove all these ETfs. Moreover, many of the entries in columns containing category data are either missing or not helpful.\n",
    "    - We think that the cause for this is that not all funds have the same inception date. For instance, a fund that started in 2017 years ago will be   missing data in any column corresponding to 2016 or before. This creates problems when trying to analyze general trends over time as data may be unevenly distributed.\n",
    "        \n",
    "        \n",
    "2. The data of ETfs and Mfs are contained in separate CSV files. There is no obvious way for us to merge this data into a single CSV file. If we were to merge these CSV files the resulting CSV file would not be very readable."
   ]
  },
  {
   "cell_type": "markdown",
   "metadata": {
    "id": "UHZDWb8kKLaX"
   },
   "source": [
    "# __QUESTIONS FOR REVIEWRS__:"
   ]
  },
  {
   "cell_type": "markdown",
   "metadata": {},
   "source": [
    "## Discussion Notes:\n",
    "- BE SPECIFIC W/ QUESTIONS"
   ]
  },
  {
   "cell_type": "markdown",
   "metadata": {
    "id": "OS3wsg88KLaX"
   },
   "source": [
    "Should we include our the results of our analysis in our .ipynb file or let readers draw their own conclusions?"
   ]
  },
  {
   "cell_type": "markdown",
   "metadata": {
    "id": "KNcGbRaEKLaX"
   },
   "source": [
    "Do you find it more intresting to compare mutual funds against ETFs or to compare/analyze different funds within the same category?"
   ]
  },
  {
   "cell_type": "markdown",
   "metadata": {
    "id": "cM9P04zuKLaX"
   },
   "source": [
    "Suppose you had another dataset of mutual funds/ETFS for Europe rather than the US. What are some interesting analysis that can be performed?"
   ]
  },
  {
   "cell_type": "code",
   "execution_count": null,
   "metadata": {
    "id": "dS8J6UxzKLaX"
   },
   "outputs": [],
   "source": []
  }
 ],
 "metadata": {
  "colab": {
   "provenance": []
  },
  "kernelspec": {
   "display_name": "Python 3 (ipykernel)",
   "language": "python",
   "name": "python3"
  },
  "language_info": {
   "codemirror_mode": {
    "name": "ipython",
    "version": 3
   },
   "file_extension": ".py",
   "mimetype": "text/x-python",
   "name": "python",
   "nbconvert_exporter": "python",
   "pygments_lexer": "ipython3",
   "version": "3.11.4"
  }
 },
 "nbformat": 4,
 "nbformat_minor": 1
}
